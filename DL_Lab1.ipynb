{
 "cells": [
  {
   "cell_type": "markdown",
   "id": "0b8561df-2182-4bd7-bbc9-711ac55f7fbd",
   "metadata": {},
   "source": [
    "# Deep Learning Lab Experiment- 1"
   ]
  },
  {
   "cell_type": "markdown",
   "id": "a2285469-5e2f-4117-b542-1b29a81a0f71",
   "metadata": {},
   "source": [
    "# Consider a \"semi-arid soil types\" dataset based on various soil properties. The dataset includes features such as soil texture, pH, moisture content, organic matter, and more. The objective is to use a deep neural network to predict soil types (e.g., sandy, loamy, clayey) based on these features. Design a simple deep learning sequential model with the following specifications:\n",
    "\n",
    "## Two hidden layers with 64 and 32 neurons, respectively \n",
    "## ReLU activation function \n",
    "## A dropout rate of 30% to avoid overfitting \n",
    "## Classification into three categories (or more if needed) for soil classification "
   ]
  },
  {
   "cell_type": "code",
   "execution_count": 3,
   "id": "3467fc55-36ed-42a6-a747-58d93a550168",
   "metadata": {},
   "outputs": [
    {
     "name": "stdout",
     "output_type": "stream",
     "text": [
      "Synthetic dataset created and saved as 'synthetic_soil_dataset.csv'.\n"
     ]
    }
   ],
   "source": [
    "import pandas as pd\n",
    "import numpy as np\n",
    "\n",
    "# Set random seed for reproducibility\n",
    "np.random.seed(42)\n",
    "\n",
    "# Number of samples\n",
    "num_samples = 1000\n",
    "\n",
    "# Generate synthetic features\n",
    "soil_texture = np.random.uniform(0, 1, num_samples)  # Ratio of sand, silt, and clay\n",
    "pH = np.random.uniform(4.5, 9.0, num_samples)  # Soil pH levels\n",
    "moisture_content = np.random.uniform(5, 50, num_samples)  # Percentage moisture\n",
    "organic_matter = np.random.uniform(1, 10, num_samples)  # Organic matter in %\n",
    "bulk_density = np.random.uniform(1.1, 1.6, num_samples)  # Soil bulk density in g/cm^3\n",
    "\n",
    "# Simulate soil types based on feature patterns\n",
    "# (These are arbitrary rules to assign soil types based on generated features)\n",
    "soil_types = []\n",
    "for i in range(num_samples):\n",
    "    if soil_texture[i] > 0.7 and pH[i] > 6.5 and moisture_content[i] < 15:\n",
    "        soil_types.append(\"Sandy\")\n",
    "    elif organic_matter[i] > 5 and moisture_content[i] > 30:\n",
    "        soil_types.append(\"Loamy\")\n",
    "    else:\n",
    "        soil_types.append(\"Clayey\")\n",
    "\n",
    "# Create a DataFrame\n",
    "data = pd.DataFrame({\n",
    "    \"Soil_Texture\": soil_texture,\n",
    "    \"pH\": pH,\n",
    "    \"Moisture_Content\": moisture_content,\n",
    "    \"Organic_Matter\": organic_matter,\n",
    "    \"Bulk_Density\": bulk_density,\n",
    "    \"Soil_Type\": soil_types\n",
    "})\n",
    "\n",
    "# Save the dataset to a CSV file\n",
    "data.to_csv(\"synthetic_soil_dataset.csv\", index=False)\n",
    "\n",
    "print(\"Synthetic dataset created and saved as 'synthetic_soil_dataset.csv'.\")"
   ]
  },
  {
   "cell_type": "code",
   "execution_count": 11,
   "id": "36a935a9-499a-41c6-af67-f711197eee95",
   "metadata": {},
   "outputs": [],
   "source": [
    "df = pd.read_csv('synthetic_soil_dataset.csv')"
   ]
  },
  {
   "cell_type": "code",
   "execution_count": 61,
   "id": "78d39b10-d19e-45a5-86bb-7482b964a336",
   "metadata": {},
   "outputs": [
    {
     "data": {
      "text/plain": [
       "Soil_Texture        0\n",
       "pH                  0\n",
       "Moisture_Content    0\n",
       "Organic_Matter      0\n",
       "Bulk_Density        0\n",
       "Soil_Type           0\n",
       "dtype: int64"
      ]
     },
     "execution_count": 61,
     "metadata": {},
     "output_type": "execute_result"
    }
   ],
   "source": [
    "df.isnull().sum()"
   ]
  },
  {
   "cell_type": "code",
   "execution_count": 63,
   "id": "515b6999-96c5-4084-acd6-f7b2aa9a5c66",
   "metadata": {},
   "outputs": [
    {
     "name": "stdout",
     "output_type": "stream",
     "text": [
      "<class 'pandas.core.frame.DataFrame'>\n",
      "RangeIndex: 1000 entries, 0 to 999\n",
      "Data columns (total 6 columns):\n",
      " #   Column            Non-Null Count  Dtype  \n",
      "---  ------            --------------  -----  \n",
      " 0   Soil_Texture      1000 non-null   float64\n",
      " 1   pH                1000 non-null   float64\n",
      " 2   Moisture_Content  1000 non-null   float64\n",
      " 3   Organic_Matter    1000 non-null   float64\n",
      " 4   Bulk_Density      1000 non-null   float64\n",
      " 5   Soil_Type         1000 non-null   object \n",
      "dtypes: float64(5), object(1)\n",
      "memory usage: 47.0+ KB\n"
     ]
    }
   ],
   "source": [
    "df.info()"
   ]
  },
  {
   "cell_type": "code",
   "execution_count": 13,
   "id": "36ec6e32-80c2-4e7a-b427-172fa4ec69c9",
   "metadata": {},
   "outputs": [
    {
     "data": {
      "text/html": [
       "<div>\n",
       "<style scoped>\n",
       "    .dataframe tbody tr th:only-of-type {\n",
       "        vertical-align: middle;\n",
       "    }\n",
       "\n",
       "    .dataframe tbody tr th {\n",
       "        vertical-align: top;\n",
       "    }\n",
       "\n",
       "    .dataframe thead th {\n",
       "        text-align: right;\n",
       "    }\n",
       "</style>\n",
       "<table border=\"1\" class=\"dataframe\">\n",
       "  <thead>\n",
       "    <tr style=\"text-align: right;\">\n",
       "      <th></th>\n",
       "      <th>Soil_Texture</th>\n",
       "      <th>pH</th>\n",
       "      <th>Moisture_Content</th>\n",
       "      <th>Organic_Matter</th>\n",
       "      <th>Bulk_Density</th>\n",
       "      <th>Soil_Type</th>\n",
       "    </tr>\n",
       "  </thead>\n",
       "  <tbody>\n",
       "    <tr>\n",
       "      <th>0</th>\n",
       "      <td>0.374540</td>\n",
       "      <td>5.333098</td>\n",
       "      <td>16.776756</td>\n",
       "      <td>7.054327</td>\n",
       "      <td>1.385998</td>\n",
       "      <td>Clayey</td>\n",
       "    </tr>\n",
       "    <tr>\n",
       "      <th>1</th>\n",
       "      <td>0.950714</td>\n",
       "      <td>6.938554</td>\n",
       "      <td>16.114046</td>\n",
       "      <td>8.170133</td>\n",
       "      <td>1.502716</td>\n",
       "      <td>Clayey</td>\n",
       "    </tr>\n",
       "    <tr>\n",
       "      <th>2</th>\n",
       "      <td>0.731994</td>\n",
       "      <td>8.428256</td>\n",
       "      <td>45.781456</td>\n",
       "      <td>3.254211</td>\n",
       "      <td>1.480080</td>\n",
       "      <td>Clayey</td>\n",
       "    </tr>\n",
       "    <tr>\n",
       "      <th>3</th>\n",
       "      <td>0.598658</td>\n",
       "      <td>7.795012</td>\n",
       "      <td>16.229579</td>\n",
       "      <td>6.623867</td>\n",
       "      <td>1.176950</td>\n",
       "      <td>Clayey</td>\n",
       "    </tr>\n",
       "    <tr>\n",
       "      <th>4</th>\n",
       "      <td>0.156019</td>\n",
       "      <td>8.129525</td>\n",
       "      <td>17.237738</td>\n",
       "      <td>6.145714</td>\n",
       "      <td>1.174625</td>\n",
       "      <td>Clayey</td>\n",
       "    </tr>\n",
       "  </tbody>\n",
       "</table>\n",
       "</div>"
      ],
      "text/plain": [
       "   Soil_Texture        pH  Moisture_Content  Organic_Matter  Bulk_Density  \\\n",
       "0      0.374540  5.333098         16.776756        7.054327      1.385998   \n",
       "1      0.950714  6.938554         16.114046        8.170133      1.502716   \n",
       "2      0.731994  8.428256         45.781456        3.254211      1.480080   \n",
       "3      0.598658  7.795012         16.229579        6.623867      1.176950   \n",
       "4      0.156019  8.129525         17.237738        6.145714      1.174625   \n",
       "\n",
       "  Soil_Type  \n",
       "0    Clayey  \n",
       "1    Clayey  \n",
       "2    Clayey  \n",
       "3    Clayey  \n",
       "4    Clayey  "
      ]
     },
     "execution_count": 13,
     "metadata": {},
     "output_type": "execute_result"
    }
   ],
   "source": [
    "df.head()"
   ]
  },
  {
   "cell_type": "code",
   "execution_count": 17,
   "id": "ce473181-e17b-4568-bc38-69a884ac0af5",
   "metadata": {},
   "outputs": [
    {
     "name": "stdout",
     "output_type": "stream",
     "text": [
      "Processed features shape: (1000, 5)\n",
      "Processed labels shape: (1000, 3)\n"
     ]
    }
   ],
   "source": [
    "import pandas as pd\n",
    "from sklearn.preprocessing import StandardScaler, OneHotEncoder\n",
    "from sklearn.impute import SimpleImputer\n",
    "\n",
    "# Load the dataset\n",
    "data = pd.read_csv(\"synthetic_soil_dataset.csv\")\n",
    "\n",
    "# 1. Handle Missing Data\n",
    "# Check for missing values\n",
    "data.isnull().sum()\n",
    "\n",
    "# Impute missing values (if any) with mean for numerical features and mode for categorical features\n",
    "numerical_features = [\"Soil_Texture\", \"pH\", \"Moisture_Content\", \"Organic_Matter\", \"Bulk_Density\"]\n",
    "categorical_features = [\"Soil_Type\"]\n",
    "\n",
    "num_imputer = SimpleImputer(strategy=\"mean\")\n",
    "cat_imputer = SimpleImputer(strategy=\"most_frequent\")\n",
    "\n",
    "data[numerical_features] = num_imputer.fit_transform(data[numerical_features])\n",
    "data[categorical_features] = cat_imputer.fit_transform(data[categorical_features])\n",
    "\n",
    "# 2. Separate Features (Inputs) and Labels (Outputs)\n",
    "X = data[numerical_features]\n",
    "y = data[\"Soil_Type\"]\n",
    "\n",
    "# Encode Categorical Features\n",
    "# Apply one-hot encoding for the \"Soil_Type\" column\n",
    "encoder = OneHotEncoder(sparse_output=False)\n",
    "y_encoded = encoder.fit_transform(y.values.reshape(-1, 1))\n",
    "\n",
    "\n",
    "# 4. Scale the Features\n",
    "scaler = StandardScaler()\n",
    "X_scaled = scaler.fit_transform(X)\n",
    "\n",
    "# Final Processed Data\n",
    "print(\"Processed features shape:\", X_scaled.shape)\n",
    "print(\"Processed labels shape:\", y_encoded.shape)\n"
   ]
  },
  {
   "cell_type": "code",
   "execution_count": 19,
   "id": "8a1c0805-1358-4151-8e7a-5d247d55811b",
   "metadata": {},
   "outputs": [
    {
     "name": "stdout",
     "output_type": "stream",
     "text": [
      "Training set size: 800\n",
      "Testing set size: 200\n"
     ]
    }
   ],
   "source": [
    "from sklearn.model_selection import train_test_split\n",
    "\n",
    "# Assuming `X_scaled` and `y_encoded` are preprocessed features and labels\n",
    "X_train, X_test, y_train, y_test = train_test_split(X_scaled, y_encoded, test_size=0.2, random_state=42)\n",
    "\n",
    "# Display the sizes of the training and testing sets\n",
    "print(\"Training set size:\", X_train.shape[0])\n",
    "print(\"Testing set size:\", X_test.shape[0])\n"
   ]
  },
  {
   "cell_type": "code",
   "execution_count": null,
   "id": "4a06ef42-d29f-47c8-9151-8667432f3170",
   "metadata": {},
   "outputs": [],
   "source": [
    "pip install tensorflow"
   ]
  },
  {
   "cell_type": "code",
   "execution_count": null,
   "id": "63206fbc-bc90-43ec-9eb2-3ed6646c93b8",
   "metadata": {},
   "outputs": [],
   "source": [
    " # Build Deep Learning Model\n",
    "from tensorflow.keras.models import Sequential\n",
    "from tensorflow.keras.layers import Dense, Dropout\n",
    "model = Sequential([\n",
    "    Dense(64, activation='relu', input_shape=(X_train.shape[1],)),\n",
    "    Dropout(0.3),\n",
    "    Dense(32, activation='relu'),\n",
    "    Dropout(0.3),\n",
    "    Dense(y_train.shape[1], activation='softmax')\n",
    "])"
   ]
  },
  {
   "cell_type": "code",
   "execution_count": null,
   "id": "205fccc6-6c8e-4e57-af2a-8e5aed0577cb",
   "metadata": {},
   "outputs": [],
   "source": [
    "from tensorflow.keras.optimizers import Adam\n",
    "\n",
    "# Compile the model\n",
    "model.compile(\n",
    "    optimizer=Adam(learning_rate=0.001),  # Adam optimizer with a default learning rate of 0.001\n",
    "    loss='sparse_categorical_crossentropy',  # Loss function for integer-labeled multi-class classification\n",
    "    metrics=['accuracy']  # Track accuracy during training\n",
    ")\n",
    "\n",
    "print(\"Model compiled successfully!\")"
   ]
  },
  {
   "cell_type": "code",
   "execution_count": null,
   "id": "c3cb15f1-17a6-44d9-b548-c9283db47db8",
   "metadata": {},
   "outputs": [],
   "source": [
    "history = model.fit(X_train, y_train, validation_data=(X_test, y_test), epochs=10, batch_size=32)"
   ]
  },
  {
   "cell_type": "code",
   "execution_count": null,
   "id": "6d34975f-d646-433b-bfa6-25b6b94f1763",
   "metadata": {},
   "outputs": [],
   "source": [
    "# Evaluate the model on the test dataset\n",
    "test_loss, test_accuracy = model.evaluate(X_test, y_test, verbose=1)\n",
    "\n",
    "# Print the results\n",
    "print(f\"Test Loss: {test_loss:.4f}\")\n",
    "print(f\"Test Accuracy: {test_accuracy:.4f}\")"
   ]
  },
  {
   "cell_type": "code",
   "execution_count": 47,
   "id": "1898c570-ed17-408a-a6b6-4aeff51c6641",
   "metadata": {},
   "outputs": [
    {
     "name": "stdout",
     "output_type": "stream",
     "text": [
      "Training Accuracy: 0.9700000286102295\n",
      "Validation Accuracy: 0.9399999976158142\n",
      "Training Loss: 0.10229777544736862\n",
      "Validation Loss: 0.11761154234409332\n"
     ]
    }
   ],
   "source": [
    "# Extract training and validation metrics\n",
    "training_accuracy = history.history['accuracy'][-1]\n",
    "validation_accuracy = history.history['val_accuracy'][-1]\n",
    "training_loss = history.history['loss'][-1]\n",
    "validation_loss = history.history['val_loss'][-1]\n",
    "\n",
    "print(\"Training Accuracy:\", training_accuracy)\n",
    "print(\"Validation Accuracy:\", validation_accuracy)\n",
    "print(\"Training Loss:\", training_loss)\n",
    "print(\"Validation Loss:\", validation_loss)"
   ]
  },
  {
   "cell_type": "code",
   "execution_count": 49,
   "id": "6b9910bb-3b64-4f5f-bd9b-fea5a3169ffb",
   "metadata": {},
   "outputs": [
    {
     "data": {
      "image/png": "[encoded data removed]",
      "text/plain": [
       "<Figure size 1200x600 with 2 Axes>"
      ]
     },
     "metadata": {},
     "output_type": "display_data"
    }
   ],
   "source": [
    "import matplotlib.pyplot as plt\n",
    "\n",
    "# Plot training and validation accuracy\n",
    "plt.figure(figsize=(12, 6))\n",
    "plt.subplot(1, 2, 1)\n",
    "plt.plot(history.history['accuracy'], label='Training Accuracy')\n",
    "plt.plot(history.history['val_accuracy'], label='Validation Accuracy')\n",
    "plt.title('Training and Validation Accuracy')\n",
    "plt.xlabel('Epochs')\n",
    "plt.ylabel('Accuracy')\n",
    "plt.legend()\n",
    "\n",
    "# Plot training and validation loss\n",
    "plt.subplot(1, 2, 2)\n",
    "plt.plot(history.history['loss'], label='Training Loss')\n",
    "plt.plot(history.history['val_loss'], label='Validation Loss')\n",
    "plt.title('Training and Validation Loss')\n",
    "plt.xlabel('Epochs')\n",
    "plt.ylabel('Loss')\n",
    "plt.legend()\n",
    "\n",
    "# Display the plots\n",
    "plt.tight_layout()\n",
    "plt.show()"
   ]
  },
  {
   "cell_type": "code",
   "execution_count": 51,
   "id": "a4aa0065-dcb7-4056-9048-7823584af0de",
   "metadata": {},
   "outputs": [
    {
     "name": "stderr",
     "output_type": "stream",
     "text": [
      "WARNING:absl:You are saving your model as an HDF5 file via `model.save()` or `keras.saving.save_model(model)`. This file format is considered legacy. We recommend using instead the native Keras format, e.g. `model.save('my_model.keras')` or `keras.saving.save_model(model, 'my_model.keras')`. \n"
     ]
    },
    {
     "name": "stdout",
     "output_type": "stream",
     "text": [
      "Model saved as 'soil_classification_model.h5'\n"
     ]
    }
   ],
   "source": [
    "# Save the entire model to a file\n",
    "model.save(\"soil_classification_model.h5\")\n",
    "print(\"Model saved as 'soil_classification_model.h5'\")"
   ]
  },
  {
   "cell_type": "code",
   "execution_count": 55,
   "id": "2b71143d-e194-473b-96d6-ea3fcd9bf5f4",
   "metadata": {},
   "outputs": [
    {
     "name": "stderr",
     "output_type": "stream",
     "text": [
      "WARNING:absl:Compiled the loaded model, but the compiled metrics have yet to be built. `model.compile_metrics` will be empty until you train or evaluate the model.\n"
     ]
    },
    {
     "name": "stdout",
     "output_type": "stream",
     "text": [
      "Model loaded successfully!\n"
     ]
    }
   ],
   "source": [
    "from tensorflow.keras.models import load_model\n",
    "\n",
    "# Load the model from the file\n",
    "loaded_model = load_model(\"soil_classification_model.h5\")\n",
    "print(\"Model loaded successfully!\")"
   ]
  },
  {
   "cell_type": "code",
   "execution_count": 57,
   "id": "dfed6051-0b11-471e-b269-343855827e64",
   "metadata": {},
   "outputs": [
    {
     "name": "stdout",
     "output_type": "stream",
     "text": [
      "\u001b[1m7/7\u001b[0m \u001b[32m━━━━━━━━━━━━━━━━━━━━\u001b[0m\u001b[37m\u001b[0m \u001b[1m1s\u001b[0m 15ms/step - accuracy: 0.9370 - loss: 0.1224 \n",
      "Loaded Model Accuracy: 0.94\n",
      "\u001b[1m1/1\u001b[0m \u001b[32m━━━━━━━━━━━━━━━━━━━━\u001b[0m\u001b[37m\u001b[0m \u001b[1m0s\u001b[0m 118ms/step"
     ]
    },
    {
     "name": "stderr",
     "output_type": "stream",
     "text": [
      "C:\\Users\\shubh\\anaconda3\\Lib\\site-packages\\sklearn\\base.py:493: UserWarning: X does not have valid feature names, but StandardScaler was fitted with feature names\n",
      "  warnings.warn(\n"
     ]
    },
    {
     "name": "stdout",
     "output_type": "stream",
     "text": [
      "\u001b[1m1/1\u001b[0m \u001b[32m━━━━━━━━━━━━━━━━━━━━\u001b[0m\u001b[37m\u001b[0m \u001b[1m0s\u001b[0m 171ms/step\n",
      "Predicted Soil Type: [0]\n"
     ]
    }
   ],
   "source": [
    "# Evaluate the loaded model on the test set\n",
    "loss, accuracy = loaded_model.evaluate(X_test, y_test)\n",
    "print(f\"Loaded Model Accuracy: {accuracy:.2f}\")\n",
    "\n",
    "# Make predictions with the loaded model\n",
    "new_soil_data = np.array([[2, 6.5, 15.0, 3.5, 1.2]])  # Example new data\n",
    "new_soil_data_scaled = scaler.transform(new_soil_data)\n",
    "predictions = loaded_model.predict(new_soil_data_scaled)\n",
    "predicted_class = np.argmax(predictions, axis=1)\n",
    "print(\"Predicted Soil Type:\", predicted_class)"
   ]
  },
  {
   "cell_type": "code",
   "execution_count": 59,
   "id": "2d2925eb-2162-4494-bc1b-e030e5775dd8",
   "metadata": {},
   "outputs": [
    {
     "name": "stdout",
     "output_type": "stream",
     "text": [
      "Model size: 0.13 MB\n"
     ]
    }
   ],
   "source": [
    "import os\n",
    "\n",
    "# Get the file size of the saved model\n",
    "model_file = \"soil_classification_model.h5\"\n",
    "\n",
    "# Check if the file exists\n",
    "if os.path.exists(model_file):\n",
    "    model_size = os.path.getsize(model_file) / (1024 * 1024)  # Convert bytes to MB\n",
    "    print(f\"Model size: {model_size:.2f} MB\")\n",
    "else:\n",
    "    print(f\"Model file '{model_file}' not found. Please save the model first.\")"
   ]
  },
  {
   "cell_type": "code",
   "execution_count": null,
   "id": "5d35ef96-21e1-4e1d-a227-60ce6fbb1239",
   "metadata": {},
   "outputs": [],
   "source": []
  }
 ],
 "metadata": {
  "kernelspec": {
   "display_name": "Python [conda env:base] *",
   "language": "python",
   "name": "conda-base-py"
  },
  "language_info": {
   "codemirror_mode": {
    "name": "ipython",
    "version": 3
   },
   "file_extension": ".py",
   "mimetype": "text/x-python",
   "name": "python",
   "nbconvert_exporter": "python",
   "pygments_lexer": "ipython3",
   "version": "3.12.7"
  }
 },
 "nbformat": 4,
 "nbformat_minor": 5
}
